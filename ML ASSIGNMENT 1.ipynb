{
  "cells": [
    {
      "cell_type": "code",
      "source": [
        "import pandas as pd\n",
        "from sklearn.preprocessing import MinMaxScaler\n",
        "\n",
        "df = pd.read_csv('WineQT.csv')\n",
        "\n",
        "df['quality'] = df['quality'].apply(lambda x: 0 if x <= 6 else 1)\n",
        "\n",
        "scaler = MinMaxScaler()\n",
        "df[df.columns[:-1]] = scaler.fit_transform(df[df.columns[:-1]])\n",
        "\n",
        "df.to_csv('winequality_transformed.csv', index=False)\n",
        "df\n"
      ],
      "metadata": {
        "id": "J18AOxqR1igc"
      },
      "execution_count": null,
      "outputs": []
    }
  ],
  "metadata": {
    "colab": {
      "name": "Welcome To Colab",
      "toc_visible": true,
      "provenance": []
    },
    "kernelspec": {
      "display_name": "Python 3",
      "name": "python3"
    }
  },
  "nbformat": 4,
  "nbformat_minor": 0
}